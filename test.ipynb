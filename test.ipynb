{
 "cells": [
  {
   "cell_type": "code",
   "execution_count": 1,
   "metadata": {},
   "outputs": [],
   "source": [
    "#!/usr/bin/env python\n",
    "import pika\n",
    "import csv\n",
    "import sys\n",
    "\n",
    "connection = pika.BlockingConnection(pika.ConnectionParameters('localhost'))\n",
    "channel = connection.channel()\n"
   ]
  },
  {
   "cell_type": "code",
   "execution_count": 8,
   "metadata": {},
   "outputs": [
    {
     "name": "stdout",
     "output_type": "stream",
     "text": [
      "First task....\n",
      "Second task....\n",
      "Third task....\n",
      "Forth task...\n",
      "Fifth task...\n",
      "Sixth task...\n"
     ]
    }
   ],
   "source": [
    "with open ('tasks.csv', mode ='r') as file:\n",
    "    csvFile = csv.reader(file)\n",
    "\n",
    "    for lines in csvFile:\n",
    "        #message = \" \".join(sys.argv[1:]) or lines\n",
    "        message = ''.join(str(x) for x in lines)\n",
    "        print((message))\n",
    "        "
   ]
  },
  {
   "cell_type": "code",
   "execution_count": 2,
   "metadata": {},
   "outputs": [
    {
     "name": "stdout",
     "output_type": "stream",
     "text": [
      "pika is not installed\n"
     ]
    }
   ],
   "source": [
    "import importlib.util\n",
    "\n",
    "# For illustrative purposes.\n",
    "package_name = 'pika'\n",
    "\n",
    "spec = importlib.util.find_spec(package_name)\n",
    "if spec is None:\n",
    "    print(package_name +\" is not installed\")\n"
   ]
  },
  {
   "cell_type": "code",
   "execution_count": null,
   "metadata": {},
   "outputs": [],
   "source": []
  }
 ],
 "metadata": {
  "kernelspec": {
   "display_name": "Python 3",
   "language": "python",
   "name": "python3"
  },
  "language_info": {
   "codemirror_mode": {
    "name": "ipython",
    "version": 3
   },
   "file_extension": ".py",
   "mimetype": "text/x-python",
   "name": "python",
   "nbconvert_exporter": "python",
   "pygments_lexer": "ipython3",
   "version": "3.10.9"
  },
  "orig_nbformat": 4,
  "vscode": {
   "interpreter": {
    "hash": "98afb33d2bdf54e870e503cc7fe9e5025ed94aafb549bc0bc2b30638a52db936"
   }
  }
 },
 "nbformat": 4,
 "nbformat_minor": 2
}
